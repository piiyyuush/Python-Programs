{
  "nbformat": 4,
  "nbformat_minor": 0,
  "metadata": {
    "colab": {
      "provenance": []
    },
    "kernelspec": {
      "name": "python3",
      "display_name": "Python 3"
    },
    "language_info": {
      "name": "python"
    }
  },
  "cells": [
    {
      "cell_type": "code",
      "execution_count": 1,
      "metadata": {
        "colab": {
          "base_uri": "https://localhost:8080/"
        },
        "id": "gGK54HjqNOJY",
        "outputId": "bca8941f-83b4-46ad-ccf0-b6a06e528deb"
      },
      "outputs": [
        {
          "output_type": "stream",
          "name": "stdout",
          "text": [
            "['False', 'None', 'True', 'and', 'as', 'assert', 'async', 'await', 'break', 'class', 'continue', 'def', 'del', 'elif', 'else', 'except', 'finally', 'for', 'from', 'global', 'if', 'import', 'in', 'is', 'lambda', 'nonlocal', 'not', 'or', 'pass', 'raise', 'return', 'try', 'while', 'with', 'yield']\n",
            "35\n"
          ]
        }
      ],
      "source": [
        "\n",
        "import keyword\n",
        "print(keyword.kwlist)\n",
        "a=len(keyword.kwlist)\n",
        "print(a)"
      ]
    },
    {
      "cell_type": "markdown",
      "source": [
        "2.multi line comment(specified using doc sring)."
      ],
      "metadata": {
        "id": "rGKOJQlqOsFv"
      }
    },
    {
      "cell_type": "code",
      "source": [
        "\n",
        "print('hello my dear friends')\n"
      ],
      "metadata": {
        "colab": {
          "base_uri": "https://localhost:8080/"
        },
        "id": "PluOmQ0aOR4l",
        "outputId": "f646ea53-9c7b-41c9-f5f3-12bf40ec0ccc"
      },
      "execution_count": 2,
      "outputs": [
        {
          "output_type": "stream",
          "name": "stdout",
          "text": [
            "hello my dear friends\n"
          ]
        }
      ]
    },
    {
      "cell_type": "code",
      "source": [
        "#PYTHON VARIABLES:"
      ],
      "metadata": {
        "id": "BCTmivpOOzjP"
      },
      "execution_count": 3,
      "outputs": []
    },
    {
      "cell_type": "code",
      "source": [
        "a=50\n",
        "b=50\n",
        "c=a+b\n",
        "print(c)\n",
        "x='hello'\n",
        "x"
      ],
      "metadata": {
        "colab": {
          "base_uri": "https://localhost:8080/",
          "height": 54
        },
        "id": "tsMfWrxfPsHI",
        "outputId": "2e7982c0-4f58-41fa-c630-4df68711c4db"
      },
      "execution_count": 5,
      "outputs": [
        {
          "output_type": "stream",
          "name": "stdout",
          "text": [
            "100\n"
          ]
        },
        {
          "output_type": "execute_result",
          "data": {
            "text/plain": [
              "'hello'"
            ],
            "application/vnd.google.colaboratory.intrinsic+json": {
              "type": "string"
            }
          },
          "metadata": {},
          "execution_count": 5
        }
      ]
    },
    {
      "cell_type": "markdown",
      "source": [
        " List Operations Creating Lists"
      ],
      "metadata": {
        "id": "K7Ez-uPiQSj9"
      }
    },
    {
      "cell_type": "code",
      "source": [
        "a = [1, 2, 3, 4, 5]\n",
        "b = [2.4, 7.0, 6.8]\n",
        "c = ['hello', 'students']\n",
        "print(a)\n",
        "print(b)\n",
        "print(c)"
      ],
      "metadata": {
        "colab": {
          "base_uri": "https://localhost:8080/"
        },
        "id": "4yybVME3PxnY",
        "outputId": "db5d3e7e-9b9c-46b7-bbb7-655b3dd2270f"
      },
      "execution_count": 7,
      "outputs": [
        {
          "output_type": "stream",
          "name": "stdout",
          "text": [
            "[1, 2, 3, 4, 5]\n",
            "[2.4, 7.0, 6.8]\n",
            "['hello', 'students']\n"
          ]
        }
      ]
    },
    {
      "cell_type": "markdown",
      "source": [
        "List Slicing and Indexing"
      ],
      "metadata": {
        "id": "e_NzHsPiQhOs"
      }
    },
    {
      "cell_type": "code",
      "source": [
        "days = ['monday', 'tuesday', 'wednesday', 'thursday', 'friday', 'saturday', 'sunday']\n",
        "print(days[1])\n",
        "print(days[-1])\n",
        "print(days[:])\n",
        "print(days[1:4])\n",
        "print(days[1:4:2])"
      ],
      "metadata": {
        "colab": {
          "base_uri": "https://localhost:8080/"
        },
        "id": "jOlfTth-QXrG",
        "outputId": "8c3ab011-01ce-483a-bc95-468907301093"
      },
      "execution_count": 8,
      "outputs": [
        {
          "output_type": "stream",
          "name": "stdout",
          "text": [
            "tuesday\n",
            "sunday\n",
            "['monday', 'tuesday', 'wednesday', 'thursday', 'friday', 'saturday', 'sunday']\n",
            "['tuesday', 'wednesday', 'thursday']\n",
            "['tuesday', 'thursday']\n"
          ]
        }
      ]
    },
    {
      "cell_type": "markdown",
      "source": [
        "List Methods"
      ],
      "metadata": {
        "id": "0Sv8mQZXQkLc"
      }
    },
    {
      "cell_type": "code",
      "source": [
        "days = ['monday', 'tuesday', 'wednesday', 'thursday', 'friday', 'saturday', 'sunday']\n",
        "print(len(days))\n",
        "numbers = [1, 2, 3, 4, 5, 6, 7, 8]\n",
        "print(max(numbers))\n",
        "print(min(numbers))\n",
        "print(sum(numbers))\n",
        "\n",
        "import random\n",
        "random.shuffle(numbers)\n",
        "print(numbers)\n"
      ],
      "metadata": {
        "colab": {
          "base_uri": "https://localhost:8080/"
        },
        "id": "aAJLFssTQkvl",
        "outputId": "fba4ebdf-cad5-4119-c3ab-f804d4702ae5"
      },
      "execution_count": 9,
      "outputs": [
        {
          "output_type": "stream",
          "name": "stdout",
          "text": [
            "7\n",
            "8\n",
            "1\n",
            "36\n",
            "[8, 7, 4, 6, 2, 1, 5, 3]\n"
          ]
        }
      ]
    },
    {
      "cell_type": "markdown",
      "source": [
        "List Operators"
      ],
      "metadata": {
        "id": "gwiyhQF9QkPE"
      }
    },
    {
      "cell_type": "code",
      "source": [
        "a = [1, 2, 3]\n",
        "b = [4, 5, 6]\n",
        "c = a + b\n",
        "print(c)\n",
        "b = 3 * a\n",
        "print(b)\n",
        "print('wednesday' in days)\n",
        "print('wednesday' not in days)"
      ],
      "metadata": {
        "colab": {
          "base_uri": "https://localhost:8080/"
        },
        "id": "ENGicR7VQky3",
        "outputId": "b85e2461-39dd-41ee-ac20-6826e0b747ae"
      },
      "execution_count": 11,
      "outputs": [
        {
          "output_type": "stream",
          "name": "stdout",
          "text": [
            "[1, 2, 3, 4, 5, 6]\n",
            "[1, 2, 3, 1, 2, 3, 1, 2, 3]\n",
            "True\n",
            "False\n"
          ]
        }
      ]
    },
    {
      "cell_type": "markdown",
      "source": [
        "Tuple Operations Creating Tuples bold text"
      ],
      "metadata": {
        "id": "W0EetQBrQkT0"
      }
    },
    {
      "cell_type": "code",
      "source": [
        "a = (5,)\n",
        "print(a)\n",
        "print(type(a))\n",
        "\n",
        "a = (1, 2, 3, 4, 5)\n",
        "b = (6.5, 5.9, 2.0)\n",
        "c = ('one', 'two', 'three')\n",
        "mix = ('hello', 708, 66.8, 1, 2)\n",
        "\n",
        "print(a)\n",
        "print(b)\n",
        "print(c)\n",
        "print(mix)\n"
      ],
      "metadata": {
        "colab": {
          "base_uri": "https://localhost:8080/"
        },
        "id": "KOcX2-yuQk2E",
        "outputId": "6c04a994-623e-4ae6-bd5b-e72577120ecb"
      },
      "execution_count": 12,
      "outputs": [
        {
          "output_type": "stream",
          "name": "stdout",
          "text": [
            "(5,)\n",
            "<class 'tuple'>\n",
            "(1, 2, 3, 4, 5)\n",
            "(6.5, 5.9, 2.0)\n",
            "('one', 'two', 'three')\n",
            "('hello', 708, 66.8, 1, 2)\n"
          ]
        }
      ]
    },
    {
      "cell_type": "markdown",
      "source": [
        "Accessing Tuple"
      ],
      "metadata": {
        "id": "86eZpyvaQkYE"
      }
    },
    {
      "cell_type": "code",
      "source": [
        "a = (1, 2, 3, 4, 'hello')\n",
        "print(a[4])"
      ],
      "metadata": {
        "colab": {
          "base_uri": "https://localhost:8080/"
        },
        "id": "5v06jiflRaYp",
        "outputId": "5cdca878-8213-4b66-9153-f20cf2dec09d"
      },
      "execution_count": 13,
      "outputs": [
        {
          "output_type": "stream",
          "name": "stdout",
          "text": [
            "hello\n"
          ]
        }
      ]
    },
    {
      "cell_type": "markdown",
      "source": [
        "Dictionary Operations Creating and Accessing Dictionaries"
      ],
      "metadata": {
        "id": "WjDHIIgXQka8"
      }
    },
    {
      "cell_type": "code",
      "source": [
        "a = {\n",
        "    'name': 'joy',\n",
        "    'age': 23,\n",
        "    'education': 'Engineer'\n",
        "}\n",
        "print(a)\n",
        "print(len(a))\n",
        "print(type(a))\n",
        "print(a.keys())\n",
        "print(a.values())"
      ],
      "metadata": {
        "colab": {
          "base_uri": "https://localhost:8080/"
        },
        "id": "jiXnUGN7Rv7M",
        "outputId": "b59a0cbd-6c25-4e79-8a5d-409a2a46d8cb"
      },
      "execution_count": 14,
      "outputs": [
        {
          "output_type": "stream",
          "name": "stdout",
          "text": [
            "{'name': 'joy', 'age': 23, 'education': 'Engineer'}\n",
            "3\n",
            "<class 'dict'>\n",
            "dict_keys(['name', 'age', 'education'])\n",
            "dict_values(['joy', 23, 'Engineer'])\n"
          ]
        }
      ]
    },
    {
      "cell_type": "markdown",
      "source": [
        "Set Operations Creating and Modifying Sets"
      ],
      "metadata": {
        "id": "MlZWNnI5RzSo"
      }
    },
    {
      "cell_type": "code",
      "source": [
        "set1 = {1, 2, 3, 4}\n",
        "print(set1)\n",
        "\n",
        "set2 = {1, 2, 3, 4, 5, 6, 7}\n",
        "print(set2)\n",
        "\n",
        "\n",
        "set3 = {1, 2, 3, 4, 5, 6, 7, 1, 1}\n",
        "print(set3)\n"
      ],
      "metadata": {
        "colab": {
          "base_uri": "https://localhost:8080/"
        },
        "id": "dXTDRP7ZRwTe",
        "outputId": "7c19ed53-a070-4a33-e98a-d0d1c4757391"
      },
      "execution_count": 15,
      "outputs": [
        {
          "output_type": "stream",
          "name": "stdout",
          "text": [
            "{1, 2, 3, 4}\n",
            "{1, 2, 3, 4, 5, 6, 7}\n",
            "{1, 2, 3, 4, 5, 6, 7}\n"
          ]
        }
      ]
    },
    {
      "cell_type": "markdown",
      "source": [
        "Functions in Python Built-in Functions\n"
      ],
      "metadata": {
        "id": "hioRAPzASATc"
      }
    },
    {
      "cell_type": "code",
      "source": [
        "print(max([1, 2, 3]))\n",
        "print(min([1, 2, 3]))\n",
        "print(sum([1, 2, 3]))\n",
        "print(print('Hello, World!'))"
      ],
      "metadata": {
        "colab": {
          "base_uri": "https://localhost:8080/"
        },
        "id": "mx9iN0NzR9JL",
        "outputId": "0b3902e1-8c54-46f8-dca0-34da9948eb6c"
      },
      "execution_count": 17,
      "outputs": [
        {
          "output_type": "stream",
          "name": "stdout",
          "text": [
            "3\n",
            "1\n",
            "6\n",
            "Hello, World!\n",
            "None\n"
          ]
        }
      ]
    },
    {
      "cell_type": "markdown",
      "source": [
        "User-defined Function"
      ],
      "metadata": {
        "id": "ZuHqSd5PSIcU"
      }
    },
    {
      "cell_type": "code",
      "source": [
        "def add():\n",
        "    a = 2\n",
        "    b = 3\n",
        "    sum = a + b\n",
        "    return sum\n",
        "\n",
        "print(add())\n"
      ],
      "metadata": {
        "id": "TKZq_UXTSEsU"
      },
      "execution_count": null,
      "outputs": []
    },
    {
      "cell_type": "markdown",
      "source": [
        "Anonymous Function (Lambda)"
      ],
      "metadata": {
        "id": "0qKzy7ZmSSaL"
      }
    },
    {
      "cell_type": "code",
      "source": [
        "add = lambda x, y: x + y\n",
        "print(add(2, 3))"
      ],
      "metadata": {
        "colab": {
          "base_uri": "https://localhost:8080/"
        },
        "id": "Ug0Hoo0GSNlV",
        "outputId": "3d61b472-cdb5-43e1-f0f4-a32e5f519659"
      },
      "execution_count": 18,
      "outputs": [
        {
          "output_type": "stream",
          "name": "stdout",
          "text": [
            "5\n"
          ]
        }
      ]
    },
    {
      "cell_type": "markdown",
      "source": [
        " Function Modularity Example"
      ],
      "metadata": {
        "id": "nkSUhGS9SWmR"
      }
    },
    {
      "cell_type": "code",
      "source": [
        "def collectdata():\n",
        "    'function to collect data'\n",
        "    pass\n",
        "\n",
        "def cleandata():\n",
        "    'function to clean data'\n",
        "    pass\n",
        "\n",
        "def processdata():\n",
        "    'function to pre-process the data'\n",
        "    pass\n",
        "\n",
        "def exploredata():\n",
        "    'function to explore data'\n",
        "    pass\n",
        "\n",
        "def visualization():\n",
        "    'function to visualize data'\n",
        "    pass\n",
        "\n",
        "\n",
        "collectdata()\n",
        "cleandata()\n",
        "processdata()\n",
        "exploredata()\n",
        "visualization()"
      ],
      "metadata": {
        "id": "sOB4R_DTSS7i"
      },
      "execution_count": 19,
      "outputs": []
    },
    {
      "cell_type": "code",
      "source": [],
      "metadata": {
        "id": "egR519PXScRY"
      },
      "execution_count": null,
      "outputs": []
    }
  ]
}